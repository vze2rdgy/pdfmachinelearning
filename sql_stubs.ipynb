{
 "cells": [
  {
   "cell_type": "code",
   "execution_count": 5,
   "metadata": {},
   "outputs": [],
   "source": [
    "from sqlalchemy import create_engine\n",
    "from sqlalchemy.orm import sessionmaker\n",
    "from core.data import models \n",
    "from flask import current_app, g\n",
    "from flask.cli import with_appcontext\n",
    "import logging\n",
    "from core.data import api"
   ]
  },
  {
   "cell_type": "code",
   "execution_count": 9,
   "metadata": {},
   "outputs": [],
   "source": [
    "dbsession = api.DBSession.Create()\n",
    "session = dbsession.getSession()"
   ]
  },
  {
   "cell_type": "code",
   "execution_count": 11,
   "metadata": {},
   "outputs": [
    {
     "name": "stdout",
     "output_type": "stream",
     "text": [
      "{'ACC': 'Active Content', 'ADP': 'Advantage Phrases', 'BBC': 'Building Blocks', 'BEN': 'Benefit', 'BOA': 'Bioassay', 'BOP': 'Body Part', 'BOT': 'Botanical', 'BPA': 'Botanical Part', 'CAS': 'CAS #', 'CAT': 'Catalogue #', 'CAU': 'Caution', 'CER': 'Certification', 'CHF': 'Chemical Formula', 'CIN': 'Consumer Insight', 'CIT': 'Citation', 'CLA': 'Claim', 'CLR': 'Color', 'CMN': 'Common Name', 'COA': 'Certification of Analysis', 'COI': 'Company Introduction', 'COM': 'Company', 'CON': 'Contact information', 'COP': 'Composition', 'COS': 'Cosmetics', 'CTR': 'Control (experimental)', 'DES': 'Description', 'DIS': 'Disclaimer', 'DUR': 'Duration', 'ECA': 'Extraction Carrier', 'EIN': 'EINEC Number (EC number)', 'EQP': 'Equipment', 'FOM': 'Form ', 'FOR': 'Formulation', 'HAR': 'Hair (Care)', 'HTS': 'Harmonized Tariff System', 'IMP': 'Impurity', 'INC': 'INCI Name', 'ING': 'Ingredient', 'INS': 'Instrument', 'LAN': 'Language', 'LON': 'Leave-On', 'MAN': 'Manufacturing', 'MCR': 'Microbial', 'MEN': 'Men Care', 'MLT': 'Molecular Target', 'MOA': 'Mechanism of Action', 'MOL': 'Molecular Weight', 'MSR': 'Measurement', 'NON': 'None', 'NUM': 'Number', 'ORG': 'Organism', 'ORI': 'Origin, Source of', 'PAC': 'Packaging', 'PAT': 'Patent', 'PRD': 'Product line (type)', 'PRE': 'Preservation', 'PRO': 'Property', 'PRT': 'Protocol', 'RAC': 'Race', 'REG': 'Region (Geography)', 'RGL': 'Regulatory', 'ROF': 'Rinse-Off', 'RTB': 'Resaon to Believe', 'SAF': 'Safety', 'SCN': 'Scientific Name', 'SIG': 'Signature', 'Sil': 'Simulation / In Silico', 'SIT': 'Site ', 'SKC': 'Skin Condition', 'SKN': 'Skin (Care)', 'SKT': 'Skin Type (Population type and Skin type)', 'SPE': 'Specification', 'STA': 'Statistics', 'STB': 'Stability / Compatibility', 'STE': 'Stressor', 'STO': 'Story', 'STR': 'Storage', 'SUB': 'Substance', 'SUN': 'Sun Care', 'TEC': 'Technical Data Sheet', 'Tox': 'Tox', 'TPO': 'Time Point', 'TRM': 'Trade Mark', 'TRN': 'Trade Name', 'UNT': 'Unit', 'USF': 'Use Frequency', 'USL': 'Use Level', 'VIT': 'In vitro', 'VIV': 'In Vivo'}\n"
     ]
    }
   ],
   "source": [
    " \n",
    "d = { instance.Name : instance.Definition for instance in session.query(models.Tag).order_by(models.Tag.Name) }\n",
    "print(d)\n",
    "       "
   ]
  },
  {
   "cell_type": "code",
   "execution_count": null,
   "metadata": {},
   "outputs": [],
   "source": []
  }
 ],
 "metadata": {
  "kernelspec": {
   "display_name": "Python 3",
   "language": "python",
   "name": "python3"
  },
  "language_info": {
   "codemirror_mode": {
    "name": "ipython",
    "version": 3
   },
   "file_extension": ".py",
   "mimetype": "text/x-python",
   "name": "python",
   "nbconvert_exporter": "python",
   "pygments_lexer": "ipython3",
   "version": "3.6.7"
  }
 },
 "nbformat": 4,
 "nbformat_minor": 2
}
